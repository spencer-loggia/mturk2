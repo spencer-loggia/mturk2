{
 "cells": [
  {
   "cell_type": "code",
   "id": "initial_id",
   "metadata": {
    "collapsed": true
   },
   "source": [
    "from ColorShapeSpace_sim import CSC2Env\n",
    "from CogSSM import SSM, silu\n",
    "from dataclasses import dataclass\n",
    "from combined_model import AgentConfig, QAgent, Deform\n",
    "import torch\n",
    "import torch.nn.functional as F\n",
    "from train_utilities import build_value_obs, play_once, collect_batch_q, make_csc2_vector, TrainConfig\n",
    "import numpy as np\n",
    "from matplotlib import pyplot as plt\n",
    "import matplotlib\n",
    "%matplotlib inline\n",
    "plt.ion()\n",
    "import pickle\n",
    "from scipy.ndimage import uniform_filter\n",
    "import json"
   ],
   "outputs": [],
   "execution_count": null
  },
  {
   "cell_type": "code",
   "source": [
    "import os\n",
    "\n",
    "save_dir = \"../models/cogssm_value_e0400\"\n",
    "with open(os.path.join(save_dir, \"agent.pt\"), \"rb\") as f:\n",
    "    state_dict = torch.load(f)\n",
    "with open(os.path.join(save_dir, \"deform.pt\"), \"rb\") as f:\n",
    "    deform_state_dict = torch.load(f)\n",
    "with open(os.path.join(save_dir, \"config.json\"), \"rb\") as f:\n",
    "    config = json.load(f)\n",
    "\n",
    "DIMS = config[\"dims\"]\n",
    "H = config[\"d_model\"]\n",
    "S = config[\"d_state\"]\n",
    "P = 1\n",
    "CHUNK_SIZE = config[\"chunk_size\"]\n",
    "agent_config = TrainConfig(**config)"
   ],
   "metadata": {
    "collapsed": false
   },
   "id": "3a8675f0230cde7b",
   "outputs": [],
   "execution_count": null
  },
  {
   "cell_type": "code",
   "source": [
    "fig, axs = plt.subplots(4, 2)\n",
    "fig.tight_layout()\n",
    "for i, s in enumerate([756, 34, 2246, 4242]):\n",
    "    env = CSC2Env(trials=CHUNK_SIZE * 15, render=False, n=36, render_reward=False, seed=s, one_d=DIMS==1)\n",
    "    r_dist = env.reward_grid\n",
    "    f_dists = env.freq_grid\n",
    "    if DIMS == 2:\n",
    "        axs[i, 0].imshow(r_dist)\n",
    "        axs[i, 1].imshow(f_dists)\n",
    "    else:\n",
    "        axs[i, 0].plot(r_dist)\n",
    "        axs[i, 1].plot(f_dists)\n",
    "    axs[i, 0].set_xticks([])\n",
    "    axs[i, 0].set_yticks([])\n",
    "    axs[i, 0].set_xticklabels([])\n",
    "    axs[i, 0].set_yticklabels([])\n",
    "    axs[i, 0].axis('off')\n",
    "    axs[i, 1].set_xticks([])\n",
    "    axs[i, 1].set_yticks([])\n",
    "    axs[i, 1].set_xticklabels([])\n",
    "    axs[i, 1].set_yticklabels([])\n",
    "    axs[i, 1].axis('off')\n",
    "fig.savefig(\"example_env_dists.jpg\")\n",
    "plt.show()\n",
    "    "
   ],
   "metadata": {
    "collapsed": false
   },
   "id": "a73e60d5d8dd0654",
   "outputs": [],
   "execution_count": null
  },
  {
   "cell_type": "code",
   "source": [
    "model = QAgent(config=agent_config)\n",
    "deform = Deform(channels=agent_config.percept_dim, deform_basis=4, groups=agent_config.dims)\n",
    "model.load_state_dict(state_dict)\n",
    "deform.load_state_dict(deform_state_dict)\n",
    "#model.ssm.D.data = model.ssm.D.data * 0"
   ],
   "metadata": {
    "collapsed": false
   },
   "id": "5b8f345cada9b84",
   "outputs": [],
   "execution_count": null
  },
  {
   "cell_type": "code",
   "source": [
    "# shwo agent ENV\n",
    "# track hidden state outs\n",
    "model.reset()\n",
    "model.sequential = True\n",
    "model.reset()\n",
    "states = play_once(agent=model, cfg=agent_config, trials=CHUNK_SIZE*50, seed=34, render=False, deformer=deform, k=4).numpy()\n",
    "saved_cache = model.cache.clone()"
   ],
   "metadata": {
    "collapsed": false
   },
   "id": "142d4fb356f5cba0",
   "outputs": [],
   "execution_count": null
  },
  {
   "cell_type": "code",
   "source": [
    "# generate batch of all stimuli \n",
    "angles = 2 * np.pi * np.arange(36) / 36\n",
    "if DIMS == 2: \n",
    "    all_pairwise = np.meshgrid(angles, angles)\n",
    "    all_pairwise = np.stack(all_pairwise, axis=2)\n",
    "    all_pairwise = all_pairwise.reshape(1, -1, 2)\n",
    "else:\n",
    "    all_pairwise = angles.reshape(1, -1, 1)\n",
    "raw_obs = build_value_obs(all_pairwise, cfg=agent_config).float()"
   ],
   "metadata": {
    "collapsed": false
   },
   "id": "a07be4653ff4f307",
   "outputs": [],
   "execution_count": null
  },
  {
   "metadata": {},
   "cell_type": "code",
   "source": [
    "# get and plot deformation\n",
    "raw_percept = raw_obs[:, :agent_config.percept_dim]\n",
    "rp = raw_percept.detach().cpu().numpy()\n",
    "plt.scatter(rp[:, 2], rp[:, 3])\n",
    "deform_percept = deform(raw_percept)\n",
    "obs = raw_obs.clone()\n",
    "obs[:, :agent_config.percept_dim] = deform_percept\n",
    "obs = obs.unsqueeze(0)\n",
    "dp = deform_percept.detach().cpu().numpy()\n",
    "plt.scatter(dp[:, 2], dp[:, 3])\n",
    "plt.show()"
   ],
   "id": "115cb573d060b8c5",
   "outputs": [],
   "execution_count": null
  },
  {
   "metadata": {},
   "cell_type": "code",
   "source": [
    "# get cog model value space\n",
    "model.sequential = True\n",
    "_, v_pred = model.forward(obs, torch.zeros(obs.shape[:2]), k=all_pairwise.shape[1])\n",
    "v_pred = v_pred.detach().to(\"cpu\")\n",
    "model.cache = saved_cache.clone()"
   ],
   "id": "b8a4c25208ba7e2c",
   "outputs": [],
   "execution_count": null
  },
  {
   "cell_type": "code",
   "source": [
    "if DIMS == 2:\n",
    "    v_pred = v_pred.reshape(36, 36).T\n",
    "    plt.imshow(v_pred.numpy())\n",
    "else:\n",
    "    v_pred = v_pred.flatten()\n",
    "    plt.plot(v_pred)\n",
    "print(v_pred.min(), v_pred.max())"
   ],
   "metadata": {
    "collapsed": false
   },
   "id": "ac308809fbdb4cfc",
   "outputs": [],
   "execution_count": null
  },
  {
   "metadata": {},
   "cell_type": "code",
   "source": [
    "#plot deformation\n",
    "\n"
   ],
   "id": "12c88b1e12c04ba6",
   "outputs": [],
   "execution_count": null
  },
  {
   "cell_type": "code",
   "source": [
    "plt.plot(uniform_filter(states.reshape(CHUNK_SIZE*50, H * S * P), 100, axes=(0,), mode=\"constant\")[:-200], label=[str(i) for i in range(H * S * P)])\n",
    "plt.legend()"
   ],
   "metadata": {
    "collapsed": false
   },
   "id": "f28e48ec3244ece0",
   "outputs": [],
   "execution_count": null
  },
  {
   "cell_type": "code",
   "source": [
    "# we can recover states spaces by forcing certain states\n",
    "try:\n",
    "    del v_pred\n",
    "except Exception:\n",
    "    pass\n",
    "fig, axs = plt.subplots(H, max(2, S))\n",
    "h = H\n",
    "s = S\n",
    "for i in range(h):\n",
    "    for j in range(s):\n",
    "        state = torch.ones(1296, 1, h, s, device=\"cpu\") * 0.\n",
    "        #obs = build_value_obs(all_pairwise, torch.zeros(1, device=\"cpu\")).unsqueeze(0)\n",
    "        model.sequential = True\n",
    "        model.cache.ssm_state = state.clone()\n",
    "        model.cache.conv_state = model.cache.conv_state * 0.\n",
    "        _, bias = model.forward(obs, torch.zeros(obs.shape[:2]), k=all_pairwise.shape[1])\n",
    "        state[:, :, i, j] = 1\n",
    "        model.cache.ssm_state = state.clone()\n",
    "        model.cache.conv_state = model.cache.conv_state * 0.\n",
    "        _, v_pred = model.forward(obs, torch.zeros(obs.shape[:2]), k=all_pairwise.shape[1])\n",
    "        v_pred = v_pred.detach().to(\"cpu\") - bias.detach().to(\"cpu\")\n",
    "        if DIMS == 2:\n",
    "            v_pred = v_pred.reshape(36, 36).T\n",
    "            res = v_pred.numpy()\n",
    "            axs[i, j].imshow(res)\n",
    "        else:\n",
    "            v_pred = v_pred.flatten()\n",
    "            res = v_pred.numpy()\n",
    "            axs[i , j].plot(res)\n",
    "        print(res.min(), res.max())\n",
    "#model.cache = saved_cache.clone()\n"
   ],
   "metadata": {
    "collapsed": false
   },
   "id": "70f245b355e3890a",
   "outputs": [],
   "execution_count": null
  },
  {
   "cell_type": "code",
   "source": [
    "# manually multiply b(x)u(x) to get true filters\n",
    "# obs = build_value_obs(all_pairwise, torch.zeros(1, device=\"cpu\")).unsqueeze(0)\n",
    "conv = model.ssm.conv1d\n",
    "conv.padding = 0\n",
    "linear_weights = model.ssm.in_proj.weight"
   ],
   "metadata": {
    "collapsed": false
   },
   "id": "6e76763cf51547dc",
   "outputs": [],
   "execution_count": null
  },
  {
   "cell_type": "code",
   "source": [
    "sep_readout = True\n",
    "\n",
    "if sep_readout:\n",
    "    inner = obs[0] @ initial_weights.T + in_bias\n",
    "    inner = inner @ linear_weights.T\n",
    "    z = silu(inner[:, :H].unsqueeze(2))\n",
    "    r_sig = torch.zeros_like(inner)\n",
    "    inner = torch.stack([inner, r_sig], dim=2)\n",
    "    xBC = conv(inner[:, H:-P, :])\n",
    "else:\n",
    "    inner = obs[0] @ initial_weights.T + in_bias\n",
    "    inner = inner @ linear_weights.T\n",
    "    r_sig = torch.zeros_like(inner)\n",
    "    inner = torch.stack([inner, r_sig], dim=2)\n",
    "    xB = conv(inner[:, :, :])\n",
    "    B = xB[..., H:]\n",
    "    C = B.clone()\n",
    "    xBC = torch.cat([xB, C], dim=-1)\n",
    "    x = xBC[:, :H]\n",
    "    z = x.clone()"
   ],
   "metadata": {
    "collapsed": false
   },
   "id": "7aab7ea9f4123736",
   "outputs": [],
   "execution_count": null
  },
  {
   "cell_type": "code",
   "source": [
    "x = xBC[:, :H]\n",
    "x = silu(x)\n",
    "b = xBC[:, H:H+S].transpose(1, 2)\n",
    "c = xBC[:, H+S:H+2*S].transpose(1, 2)\n",
    "BX = x * b\n",
    "CZ = z * c"
   ],
   "metadata": {
    "collapsed": false
   },
   "id": "cc1fc2a7658ffa55",
   "outputs": [],
   "execution_count": null
  },
  {
   "cell_type": "code",
   "source": [
    "if DIMS==2:\n",
    "    BX = BX.reshape(36, 36, H, S)\n",
    "else:\n",
    "    BX = BX.reshape(36, H, S)\n",
    "fig, axs = plt.subplots(H, S + 1)\n",
    "for i in range(H):\n",
    "    for j in range(S):\n",
    "        bx = BX[..., i, j].detach().cpu().numpy()\n",
    "        cz = CZ[..., i, j].detach().cpu().numpy()\n",
    "        if DIMS==1:\n",
    "            axs[i, j].plot(bx)\n",
    "            axs[i, j].plot(cz)\n",
    "        else:\n",
    "            axs[i, j].imshow(bx)\n",
    "plt.show()"
   ],
   "metadata": {
    "collapsed": false
   },
   "id": "4b217fa8591f4756",
   "outputs": [],
   "execution_count": null
  },
  {
   "cell_type": "code",
   "source": [
    "nx = x.detach().cpu().numpy().squeeze()\n",
    "nb = b.detach().cpu().numpy().squeeze()\n",
    "nc = c.detach().cpu().numpy().squeeze()\n",
    "nz = z.detach().cpu().numpy().squeeze()"
   ],
   "metadata": {
    "collapsed": false
   },
   "id": "bf505930058059cf",
   "outputs": [],
   "execution_count": null
  },
  {
   "cell_type": "code",
   "source": [
    "fig, axs = plt.subplots(2, 2)\n",
    "axs[0, 0].plot(nx)\n",
    "axs[0, 1].plot(nb)\n",
    "axs[1, 0].plot(nz)\n",
    "axs[1, 1].plot(nc)"
   ],
   "metadata": {
    "collapsed": false
   },
   "id": "bc048af5dd30c7aa",
   "outputs": [],
   "execution_count": null
  },
  {
   "cell_type": "code",
   "source": [
    "n = 1 \n",
    "y = n * BX * CZ\n",
    "plt.plot(y.detach().cpu().numpy().squeeze())"
   ],
   "metadata": {
    "collapsed": false
   },
   "id": "9e1ad0a1716b630f",
   "outputs": [],
   "execution_count": null
  },
  {
   "cell_type": "code",
   "source": [
    "x = np.arange(500) * np.pi * 2 / 100\n",
    "#x = np.cos(x)\n",
    "m = x[:, None] \n",
    "m1 = np.cos(-2 * m + 2 * m.T - 2)\n",
    "m2 = np.sin(3*m + 1 * m.T + 1)\n",
    "m3 = np.cos(-2 * m + -2 * m.T - .5)\n",
    "plt.imshow(m1 + m2 + m3)"
   ],
   "metadata": {
    "collapsed": false
   },
   "id": "f1ec58ee638f19c1",
   "outputs": [],
   "execution_count": null
  },
  {
   "cell_type": "code",
   "source": [],
   "metadata": {
    "collapsed": false
   },
   "id": "9fe305e09a4b1ece",
   "outputs": [],
   "execution_count": null
  }
 ],
 "metadata": {
  "kernelspec": {
   "display_name": "Python 3",
   "language": "python",
   "name": "python3"
  },
  "language_info": {
   "codemirror_mode": {
    "name": "ipython",
    "version": 2
   },
   "file_extension": ".py",
   "mimetype": "text/x-python",
   "name": "python",
   "nbconvert_exporter": "python",
   "pygments_lexer": "ipython2",
   "version": "2.7.6"
  }
 },
 "nbformat": 4,
 "nbformat_minor": 5
}
