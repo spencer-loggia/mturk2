{
 "cells": [
  {
   "cell_type": "code",
   "execution_count": null,
   "id": "initial_id",
   "metadata": {
    "collapsed": true
   },
   "outputs": [],
   "source": [
    "import numpy as np\n",
    "import timeit\n",
    "import kernel_rl\n",
    "import torch\n",
    "from matplotlib import pyplot as plt\n",
    "import pandas as pd\n",
    "import importlib"
   ]
  },
  {
   "cell_type": "code",
   "execution_count": null,
   "outputs": [],
   "source": [
    "subject_trials = \"../saved_data/all_Yuri.csv\"\n",
    "data = pd.read_csv(subject_trials, sep=\"\\t\")"
   ],
   "metadata": {
    "collapsed": false
   },
   "id": "caa5a419869281f0"
  },
  {
   "cell_type": "code",
   "execution_count": null,
   "outputs": [],
   "source": [
    "print(len(data))\n",
    "data.head()"
   ],
   "metadata": {
    "collapsed": false
   },
   "id": "b1c2228f2eb88933"
  },
  {
   "cell_type": "code",
   "execution_count": null,
   "outputs": [],
   "source": [
    "start = timeit.default_timer()\n",
    "kernel_rl = importlib.reload(kernel_rl)\n",
    "model = kernel_rl.KernelRL(resolution=36, device=\"cpu\")\n",
    "state_space = model.fit(data.head(100000), epochs=200)"
   ],
   "metadata": {
    "collapsed": false
   },
   "id": "1a6c6553d4774aca"
  },
  {
   "cell_type": "code",
   "execution_count": null,
   "outputs": [],
   "source": [
    "print(torch.min(state_space[-1]), torch.max(state_space[-1]))\n",
    "plt.imshow(state_space[-1].detach().cpu().numpy())"
   ],
   "metadata": {
    "collapsed": false
   },
   "id": "c8a758a2c77533c8"
  },
  {
   "cell_type": "code",
   "execution_count": null,
   "outputs": [],
   "source": [
    "initp = model.init_prob.detach().cpu().numpy()\n",
    "print(np.min(initp), np.max(initp))\n",
    "plt.imshow(initp)"
   ],
   "metadata": {
    "collapsed": false
   },
   "id": "b264f442f1490982"
  },
  {
   "cell_type": "code",
   "execution_count": null,
   "outputs": [],
   "source": [
    "cov = model.kernel_cov.detach().cpu().numpy()\n",
    "print(cov @ cov.T)\n"
   ],
   "metadata": {
    "collapsed": false
   },
   "id": "42871fd9e5ac7186"
  },
  {
   "cell_type": "code",
   "execution_count": 19,
   "outputs": [],
   "source": [
    "from neurotools import util\n",
    "state_space = torch.zeros((10, 10))\n",
    "k = util.gaussian_kernel(kernel_size=(10, 10), cov=torch.tensor([[2., 0.], [0., 2.]]))"
   ],
   "metadata": {
    "collapsed": false,
    "ExecuteTime": {
     "end_time": "2024-07-24T19:04:26.019968559Z",
     "start_time": "2024-07-24T19:04:25.972888013Z"
    }
   },
   "id": "43018abd444f6f99"
  },
  {
   "cell_type": "code",
   "execution_count": 20,
   "outputs": [
    {
     "data": {
      "text/plain": "<matplotlib.image.AxesImage at 0x7f1c10198ec0>"
     },
     "execution_count": 20,
     "metadata": {},
     "output_type": "execute_result"
    },
    {
     "data": {
      "text/plain": "<Figure size 640x480 with 1 Axes>",
      "image/png": "[encoded data removed]"
     },
     "metadata": {},
     "output_type": "display_data"
    }
   ],
   "source": [
    "state_space = state_space + k\n",
    "plt.imshow(state_space)"
   ],
   "metadata": {
    "collapsed": false,
    "ExecuteTime": {
     "end_time": "2024-07-24T19:04:27.035662449Z",
     "start_time": "2024-07-24T19:04:26.785259918Z"
    }
   },
   "id": "58192b1f866eeb6b"
  },
  {
   "cell_type": "code",
   "execution_count": 18,
   "outputs": [
    {
     "data": {
      "text/plain": "<matplotlib.image.AxesImage at 0x7f1c102e0320>"
     },
     "execution_count": 18,
     "metadata": {},
     "output_type": "execute_result"
    },
    {
     "data": {
      "text/plain": "<Figure size 640x480 with 1 Axes>",
      "image/png": "[encoded data removed]"
     },
     "metadata": {},
     "output_type": "display_data"
    }
   ],
   "source": [
    "mu = [5, 5]\n",
    "state_space = torch.zeros((10, 10))\n",
    "state_space = state_space + torch.roll(k, (mu[0] - len(state_space) // 2, mu[1] - len(state_space) // 2), dims=(0, 1))\n",
    "plt.imshow(state_space)"
   ],
   "metadata": {
    "collapsed": false,
    "ExecuteTime": {
     "end_time": "2024-07-24T19:03:40.531756808Z",
     "start_time": "2024-07-24T19:03:40.402551743Z"
    }
   },
   "id": "19b4b37a6f380624"
  },
  {
   "cell_type": "code",
   "execution_count": null,
   "outputs": [],
   "source": [],
   "metadata": {
    "collapsed": false
   },
   "id": "d72c16e3c276fd53"
  }
 ],
 "metadata": {
  "kernelspec": {
   "display_name": "Python 3",
   "language": "python",
   "name": "python3"
  },
  "language_info": {
   "codemirror_mode": {
    "name": "ipython",
    "version": 2
   },
   "file_extension": ".py",
   "mimetype": "text/x-python",
   "name": "python",
   "nbconvert_exporter": "python",
   "pygments_lexer": "ipython2",
   "version": "2.7.6"
  }
 },
 "nbformat": 4,
 "nbformat_minor": 5
}
