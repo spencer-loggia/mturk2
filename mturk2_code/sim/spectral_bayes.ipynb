{
 "cells": [
  {
   "cell_type": "code",
   "execution_count": null,
   "id": "66fd3ccf-cb0d-4d8a-b53a-6c7e69f4d629",
   "metadata": {},
   "outputs": [],
   "source": [
    "import numpy as np\n",
    "import igraph\n",
    "from graspologic.cluster import GaussianCluster\n",
    "from graspologic.embed.ase import AdjacencySpectralEmbed\n",
    "\n",
    "from mpl_toolkits.mplot3d import Axes3D\n",
    "from matplotlib import pyplot as plt\n"
   ]
  },
  {
   "cell_type": "code",
   "execution_count": null,
   "id": "8fb99f4f-af35-47c3-87cd-525ae1b8d9aa",
   "metadata": {},
   "outputs": [],
   "source": [
    "# load files\n",
    "subject = \"Yuri\" \n",
    "weight_file = \"/home/bizon/Projects/mturk2/mturk2_code/saved_data/out_models/Yuri_bayes_dyno_Elastic_coordhist.npy\"\n",
    "prob_w = np.load(weight_file)\n"
   ]
  },
  {
   "cell_type": "code",
   "execution_count": null,
   "id": "d9f94731-598e-4665-9b0b-2c4310948b0c",
   "metadata": {},
   "outputs": [],
   "source": [
    "last_w = prob_w[-1]\n",
    "last_w[np.eye(1296).astype(bool)] = 0\n",
    "last_w.shape\n",
    "#last_w[last_w < .01] = 0."
   ]
  },
  {
   "cell_type": "code",
   "execution_count": null,
   "id": "51f99de4-a15a-476e-85d7-ca492db10d62",
   "metadata": {},
   "outputs": [],
   "source": [
    "# get spectral embedding and show\n",
    "SE = AdjacencySpectralEmbed()\n",
    "emb = SE.fit_transform(last_w)\n",
    "print(\"ndims opt.\", emb.shape[1])\n",
    "# 3D scatter plot\n",
    "fig = plt.figure()\n",
    "ax = fig.add_subplot(111, projection='3d')\n",
    "ax.scatter(emb[:, 0], emb[:, 1], emb[:, 2], s=.5)\n",
    "plt.show()"
   ]
  },
  {
   "cell_type": "code",
   "execution_count": null,
   "id": "9fed3d8f-f805-4246-8a59-c98bb4ef46e9",
   "metadata": {},
   "outputs": [],
   "source": [
    "from neurotools.embed import MDScale\n",
    "import torch\n",
    "\n",
    "weights = torch.ones(last_w.shape, dtype=torch.float)\n",
    "weights[torch.from_numpy(last_w) < .001] = 0.\n",
    "mds = MDScale(1296, embed_dims=2, initialization=\"xavier\", device='cpu', struct=\"toroid\", weights=weights)\n",
    "target_dists = torch.logit(1 - torch.from_numpy(last_w)) - .26\n",
    "target_dists = torch.nan_to_num(target_dists, posinf=0, neginf=0)\n",
    "emb = mds.fit_transform(target_dists)"
   ]
  },
  {
   "cell_type": "code",
   "execution_count": null,
   "outputs": [],
   "source": [
    "# convert embeddings to square\n",
    "nemb = emb.numpy()\n",
    "mod_emb = np.mod(nemb, 2 * np.pi)\n",
    "plt.scatter(mod_emb[:, 0], mod_emb[:, 1])\n",
    "plt.show()"
   ],
   "metadata": {
    "collapsed": false
   },
   "id": "fc1f7bf58688655c"
  },
  {
   "cell_type": "code",
   "execution_count": null,
   "id": "2ac0ed30-3b49-427e-920c-a986905d0306",
   "metadata": {},
   "outputs": [],
   "source": [
    "clust = GaussianCluster(min_components=2, max_components=20, max_iter=10000, n_init=3)\n",
    "clust = clust.fit(emb)"
   ]
  },
  {
   "cell_type": "code",
   "execution_count": null,
   "id": "2434cc79-cb6e-4e4c-9221-aee2e42434d4",
   "metadata": {},
   "outputs": [],
   "source": [
    "plt.plot(clust.bic_.full)"
   ]
  },
  {
   "cell_type": "code",
   "execution_count": null,
   "id": "479e3162-7c77-4450-ba5a-84adf7bcd221",
   "metadata": {},
   "outputs": [],
   "source": [
    "labels = clust.predict(emb)"
   ]
  },
  {
   "cell_type": "code",
   "execution_count": null,
   "id": "bbff64d7-bb2c-4f38-a178-4eebfa33e979",
   "metadata": {},
   "outputs": [],
   "source": [
    "SE = AdjacencySpectralEmbed(n_components=2)\n",
    "emb = SE.fit_transform(last_w)\n",
    "fig = plt.figure()\n",
    "ax = fig.add_subplot()\n",
    "ax.scatter(emb[:, 0], emb[:, 1], s=10, c=plt.get_cmap(\"tab20\")(labels))\n",
    "plt.show()\n",
    "fig.savefig(\"SpectralEmbed.svg\")"
   ]
  },
  {
   "cell_type": "code",
   "execution_count": null,
   "id": "cc292f01-bbfc-4c07-a526-036cb4140672",
   "metadata": {},
   "outputs": [],
   "source": [
    "# get cluster centers \n",
    "map = labels.reshape(36, 36)\n",
    "plt.imshow(map, cmap=\"tab20\")\n",
    "plt.savefig(\"cat_map_spectral.svg\")\n",
    "plt.show()"
   ]
  },
  {
   "cell_type": "code",
   "execution_count": null,
   "id": "89ecc10d-fafc-4f3b-b28d-c568d4a46695",
   "metadata": {},
   "outputs": [],
   "source": [
    "plt.scatter(mod_emb[:, 0], mod_emb[:, 1], c=labels, cmap=\"tab20\")\n",
    "plt.show()"
   ]
  },
  {
   "cell_type": "code",
   "execution_count": null,
   "id": "a1a4c3d9-b4b9-4550-b8f0-8089af920c53",
   "metadata": {},
   "outputs": [],
   "source": [
    "prob_file = \"/home/bizon/Projects/mturk2/mturk2_code/saved_data/out_models/Yuri_bayes_dyno_Elastic_probhist.npy\"\n",
    "prob_his = np.load(prob_file)"
   ]
  },
  {
   "cell_type": "code",
   "execution_count": null,
   "outputs": [],
   "source": [
    "from scipy.ndimage import gaussian_filter1d\n",
    "plt.plot(gaussian_filter1d(np.exp(prob_his.squeeze()), mode=\"constant\", cval=.25, sigma=50))\n",
    "plt.savefig(\"y_choice_probhist.svg\")"
   ],
   "metadata": {
    "collapsed": false
   },
   "id": "f6de36d44b4343e9"
  },
  {
   "cell_type": "code",
   "execution_count": null,
   "outputs": [],
   "source": [],
   "metadata": {
    "collapsed": false
   },
   "id": "a25151668a0ea96f"
  }
 ],
 "metadata": {
  "kernelspec": {
   "display_name": "Python 3 (ipykernel)",
   "language": "python",
   "name": "python3"
  },
  "language_info": {
   "codemirror_mode": {
    "name": "ipython",
    "version": 3
   },
   "file_extension": ".py",
   "mimetype": "text/x-python",
   "name": "python",
   "nbconvert_exporter": "python",
   "pygments_lexer": "ipython3",
   "version": "3.12.4"
  }
 },
 "nbformat": 4,
 "nbformat_minor": 5
}
